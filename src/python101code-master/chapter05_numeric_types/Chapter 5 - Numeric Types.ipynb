{
 "cells": [
  {
   "cell_type": "markdown",
   "metadata": {},
   "source": [
    "# Chapter 5 - Numeric Types"
   ]
  },
  {
   "cell_type": "markdown",
   "metadata": {},
   "source": [
    "Python is a little different than some languages in that it basically only has three built-in numeric types. A built-in data type means that you don't have to do anything to use them other than typing out their name.\n",
    "\n",
    "The built-in numeric types are:\n",
    "\n",
    "* `int`\n",
    "* `float`\n",
    "* `complex`"
   ]
  },
  {
   "cell_type": "markdown",
   "metadata": {},
   "source": [
    "## Integers\n",
    "\n",
    "You can create an integer in two ways in Python. The most common way is to assign an integer to a variable:"
   ]
  },
  {
   "cell_type": "code",
   "execution_count": 1,
   "metadata": {},
   "outputs": [],
   "source": [
    "my_integer = 3"
   ]
  },
  {
   "cell_type": "markdown",
   "metadata": {},
   "source": [
    "The other way to create an integer is to use the `int` function, like this:"
   ]
  },
  {
   "cell_type": "code",
   "execution_count": 2,
   "metadata": {},
   "outputs": [],
   "source": [
    "my_integer = int(3)"
   ]
  },
  {
   "cell_type": "markdown",
   "metadata": {},
   "source": [
    "## Floats\n",
    "\n",
    "A `float` in Python refers to a number that has a decimal point in it. For example, 2.0 is a `float` while 2 is an `int`."
   ]
  },
  {
   "cell_type": "markdown",
   "metadata": {},
   "source": [
    "You can create a `float` in Python like this:"
   ]
  },
  {
   "cell_type": "code",
   "execution_count": 4,
   "metadata": {},
   "outputs": [],
   "source": [
    "my_float = 2.0"
   ]
  },
  {
   "cell_type": "markdown",
   "metadata": {},
   "source": [
    "You can also create a float like this:"
   ]
  },
  {
   "cell_type": "code",
   "execution_count": 5,
   "metadata": {},
   "outputs": [],
   "source": [
    "my_float = float(2.0)"
   ]
  },
  {
   "cell_type": "markdown",
   "metadata": {},
   "source": [
    "## Complex Numbers\n",
    "\n",
    "A complex number has a *real* and an *imaginary* part, which are each a floating-point number. To get each of these parts, let's say you have a variable named `comp`. You can use `comp.real` and `comp.imag` to extract the real and imaginary parts, respectively, from the number."
   ]
  },
  {
   "cell_type": "markdown",
   "metadata": {},
   "source": [
    "Let's look at a quick example using Python's interpreter:"
   ]
  },
  {
   "cell_type": "markdown",
   "metadata": {},
   "source": [
    "```python\n",
    ">>> comp = 1 + 2j\n",
    ">>> type(comp)\n",
    "<type 'complex'>\n",
    ">>> comp.real\n",
    "1.0\n",
    ">>> comp.imag\n",
    "2.0\n",
    "```"
   ]
  },
  {
   "cell_type": "markdown",
   "metadata": {},
   "source": [
    "You can also use the `complex()` built-in function to create a complex number:"
   ]
  },
  {
   "cell_type": "code",
   "execution_count": 6,
   "metadata": {},
   "outputs": [
    {
     "data": {
      "text/plain": [
       "(10+12j)"
      ]
     },
     "execution_count": 6,
     "metadata": {},
     "output_type": "execute_result"
    }
   ],
   "source": [
    "complex(10, 12)"
   ]
  },
  {
   "cell_type": "markdown",
   "metadata": {},
   "source": [
    "## Numeric Operations\n",
    "\n",
    "All the numeric types, with the exception of `complex`, support a set of numeric operations.\n",
    "\n",
    "Here is a listing of the operations that you can do:\n",
    "\n",
    "|Operation |Result |\n",
    "|-----------------|--------------------------------------------|\n",
    "|a + b |The sum of a and b |\n",
    "|a - b |The difference of a and b |\n",
    "|a * b |The product of a and b |\n",
    "|a / b |The quotient of a and b |\n",
    "|a // b |The floored quotient of a and b |\n",
    "|a % b |The remainder of `a / b` |\n",
    "|-a |`a` negated (convert to negative) |\n",
    "|abs(a) |absolute value of `a` |\n",
    "|int(a) |`a` converted to integer |\n",
    "|float(x) |`a` converted to a floating-point number |\n",
    "|complex(re, im) |A complex number with real and imaginary |\n",
    "|c.conjugate() |The conjugate of the complex number `c` |\n",
    "|divmod(a, b) |The pair: (a // b, a % b) |\n",
    "|pow(x, b) |`a` to the power of `b` |\n",
    "|a ** b |`a` to the power of `b` |"
   ]
  },
  {
   "cell_type": "markdown",
   "metadata": {},
   "source": [
    "See also [https://docs.python.org/3/library/stdtypes.html](https://docs.python.org/3/library/stdtypes.html)"
   ]
  },
  {
   "cell_type": "markdown",
   "metadata": {},
   "source": [
    "## Augmented Assignment\n",
    "\n",
    "Python supports doing some types of arithmetic using a concept called **Augmented Assignment**. This idea was first proposed in PEP 203:\n",
    "\n",
    "* <https://www.python.org/dev/peps/pep-0203/>"
   ]
  },
  {
   "cell_type": "markdown",
   "metadata": {},
   "source": [
    "The syntax allows you to do various arithmetic operations using the following operators:\n",
    "\n",
    "`+= -= *= /= %= **= <<= >>= &= ^= |=`\n",
    "\n",
    "This syntax is a shortcut for doing common arithmetic in Python. With it you can replace the following code:\n",
    "\n",
    "```python\n",
    ">>> x = 1\n",
    ">>> x = x + 2\n",
    ">>> x\n",
    "3\n",
    "```\n",
    "\n",
    "with this:\n",
    "\n",
    "```python\n",
    ">>> x = 1\n",
    ">>> x += 2\n",
    ">>> x\n",
    "3\n",
    "```"
   ]
  },
  {
   "cell_type": "code",
   "execution_count": null,
   "metadata": {},
   "outputs": [],
   "source": []
  }
 ],
 "metadata": {
  "kernelspec": {
   "display_name": "Python 3",
   "language": "python",
   "name": "python3"
  },
  "language_info": {
   "codemirror_mode": {
    "name": "ipython",
    "version": 3
   },
   "file_extension": ".py",
   "mimetype": "text/x-python",
   "name": "python",
   "nbconvert_exporter": "python",
   "pygments_lexer": "ipython3",
   "version": "3.6.4"
  }
 },
 "nbformat": 4,
 "nbformat_minor": 2
}
