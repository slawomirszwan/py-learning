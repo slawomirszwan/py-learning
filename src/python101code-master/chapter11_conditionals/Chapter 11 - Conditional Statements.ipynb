{
 "cells": [
  {
   "cell_type": "markdown",
   "metadata": {},
   "source": [
    "# Chapter 11 - Conditional Statements\n",
    "\n",
    "Developers have to make decisions all the time. How do you approach this problem? Do you use technology X or technology Y? Which programming language(s) can you use to solve this? Your code also sometimes needs to make a decision.\n",
    "\n",
    "In this chapter you will learn about the following:\n",
    "\n",
    "* Comparison operators\n",
    "* Creating a simple conditional\n",
    "* Branching conditional statements\n",
    "* Nesting conditionals\n",
    "* Logical operators\n",
    "* Special operators\n",
    "\n",
    "Let's get started by learning about comparison operators!"
   ]
  },
  {
   "cell_type": "markdown",
   "metadata": {},
   "source": [
    "## Comparison Operators\n",
    "\n",
    "Before you get started using conditionals, it will be useful to learn about comparison operator. Comparison operators let you ask if something equals something else or if they are greater than or less than a value, etc.\n",
    "\n",
    "Python's comparison operators are shown in the following table:\n",
    "\n",
    "|Operator |Meaning |\n",
    "|---------|--------|\n",
    "|>        |Greater than - This is `True` is the left operand is greater than the right|\n",
    "|<        |Less than - This is `True` is the left operand is less than the right one|\n",
    "|==       |Equal to - This is `True` only when both operands are equal|\n",
    "|!=       |Not equal to - This is `True` if the operands are not equal|\n",
    "|>=       |Greater than or equal to - This is `True` when the left operand is greater than or equal to the right|\n",
    "|<=       |Less than or equal to - This is `True` when the left operand is less than or equal to the right|\n",
    "\n",
    "Now that you know what comparison operators are available to you in Python, you can start using them!\n",
    "\n",
    "Here are some examples:\n"
   ]
  },
  {
   "cell_type": "code",
   "execution_count": 2,
   "metadata": {},
   "outputs": [
    {
     "data": {
      "text/plain": [
       "False"
      ]
     },
     "execution_count": 2,
     "metadata": {},
     "output_type": "execute_result"
    }
   ],
   "source": [
    "a = 2\n",
    "b = 3\n",
    "a == b"
   ]
  },
  {
   "cell_type": "code",
   "execution_count": 3,
   "metadata": {},
   "outputs": [
    {
     "data": {
      "text/plain": [
       "False"
      ]
     },
     "execution_count": 3,
     "metadata": {},
     "output_type": "execute_result"
    }
   ],
   "source": [
    "a > b"
   ]
  },
  {
   "cell_type": "code",
   "execution_count": 4,
   "metadata": {},
   "outputs": [
    {
     "data": {
      "text/plain": [
       "True"
      ]
     },
     "execution_count": 4,
     "metadata": {},
     "output_type": "execute_result"
    }
   ],
   "source": [
    "a < b"
   ]
  },
  {
   "cell_type": "code",
   "execution_count": 5,
   "metadata": {},
   "outputs": [
    {
     "data": {
      "text/plain": [
       "False"
      ]
     },
     "execution_count": 5,
     "metadata": {},
     "output_type": "execute_result"
    }
   ],
   "source": [
    "a >= b"
   ]
  },
  {
   "cell_type": "code",
   "execution_count": 6,
   "metadata": {},
   "outputs": [
    {
     "data": {
      "text/plain": [
       "True"
      ]
     },
     "execution_count": 6,
     "metadata": {},
     "output_type": "execute_result"
    }
   ],
   "source": [
    "a <= b"
   ]
  },
  {
   "cell_type": "code",
   "execution_count": 7,
   "metadata": {},
   "outputs": [
    {
     "data": {
      "text/plain": [
       "True"
      ]
     },
     "execution_count": 7,
     "metadata": {},
     "output_type": "execute_result"
    }
   ],
   "source": [
    "a != b"
   ]
  },
  {
   "cell_type": "markdown",
   "metadata": {},
   "source": [
    "## Creating a Simple Conditional"
   ]
  },
  {
   "cell_type": "markdown",
   "metadata": {},
   "source": [
    "Creating a conditional statement allows your code to branch down two different paths. Let's take authentication as an example. If you go to your web mail account on a new computer, you will need to login to view your email. The code for the main page will either load up your email box when you go there or it will prompt you to login.\n",
    "\n",
    "You can make a pretty safe bet that the code is using a conditional statement to check and see if you authenticated / authorized to view the email. If you are, it loads your email. If you are not, it loads the login screen.\n",
    "\n",
    "Let's create a pretend authentication example:"
   ]
  },
  {
   "cell_type": "code",
   "execution_count": 8,
   "metadata": {},
   "outputs": [
    {
     "name": "stdout",
     "output_type": "stream",
     "text": [
      "You are logged in\n"
     ]
    }
   ],
   "source": [
    "authenticated = True\n",
    "if authenticated:\n",
    "    print('You are logged in')"
   ]
  },
  {
   "cell_type": "markdown",
   "metadata": {},
   "source": [
    "In this example, you create a variable called `authenticated` and set it to `True`. Then you create a conditional statement using Python's `if` keyword. A conditional statement in Python takes this form:\n",
    "\n",
    "```\n",
    "if <expression>:\n",
    "    # do something here\n",
    "```"
   ]
  },
  {
   "cell_type": "markdown",
   "metadata": {},
   "source": [
    "## Branching Conditional Statements\n",
    "\n",
    "You will often need to do different things depending on the answer of a question. So for this hypothetical situation, you want to let the user know when they aren't authenticated so that they will go login.\n",
    "\n",
    "To get that to work, you can use the keyword `else`:"
   ]
  },
  {
   "cell_type": "code",
   "execution_count": 9,
   "metadata": {},
   "outputs": [
    {
     "name": "stdout",
     "output_type": "stream",
     "text": [
      "Please login\n"
     ]
    }
   ],
   "source": [
    "authenticated = False\n",
    "if authenticated:\n",
    "    print('You are logged in')\n",
    "else:\n",
    "    print('Please login')"
   ]
  },
  {
   "cell_type": "markdown",
   "metadata": {},
   "source": [
    "What this code is doing is that if you are `authenticated`, it will print \"You are logged in\" and when you are not, it will print \"Please login\". In a real program, you would have more than just a `print()` statement. You would have code that would redirect the user to the login page or if they were authenticated, it would run code to load their inbox.\n",
    "\n",
    "Let's create a new scenario. Let's create a conditional statement that will check your age and let you purchase different items depending on that factor:"
   ]
  },
  {
   "cell_type": "code",
   "execution_count": 10,
   "metadata": {},
   "outputs": [
    {
     "name": "stdout",
     "output_type": "stream",
     "text": [
      "You can buy candy\n"
     ]
    }
   ],
   "source": [
    "age = 10\n",
    "if age < 18:\n",
    "    print('You can buy candy')\n",
    "elif age < 21:\n",
    "    print('You can purchase tobacco and candy, but not alcohol')\n",
    "elif age >= 21:\n",
    "    print('You can buy anything!')"
   ]
  },
  {
   "cell_type": "markdown",
   "metadata": {},
   "source": [
    "In this example, you use `if` and `elif`. The keyword, `elif` is short for \"else if\". So what you are doing here is that you are checking the age against different hard-coded values. If the age is less than 18, then the buyer can only buy candy. \n",
    "\n",
    "If they are older than 18 but less than 21, they can purchase tobacco. Of course, you shouldn't do that because tobacco is not good for you, but it has an age restriction in most places. Next you check if the buyer's age is greater than or equal to 21. Then they can buy whatever they want.\n",
    "\n",
    "You could change the last `elif` to be simply an `else` clause if you wanted to, but Python encourages developers to be explicit in their code and it's easier to understand by using `elif` in this case.\n",
    "\n",
    "You can use as many `elif` statements as you need, although it is usually recommended that when you see a long `if/elif` statement, that code probably needs to be reworked."
   ]
  },
  {
   "cell_type": "markdown",
   "metadata": {},
   "source": [
    "## Nesting Conditionals\n",
    "\n",
    "You can put an `if` statement inside of another `if` statement. This is known as nesting.\n",
    "\n",
    "Let's look at a silly example:"
   ]
  },
  {
   "cell_type": "code",
   "execution_count": 1,
   "metadata": {},
   "outputs": [
    {
     "name": "stdout",
     "output_type": "stream",
     "text": [
      "You buy American\n"
     ]
    }
   ],
   "source": [
    "age = 21\n",
    "car = 'Ford'\n",
    "if age >= 21:\n",
    "    if car in ['Honda', 'Toyota']:\n",
    "        print('You buy foreign cars')\n",
    "    elif car in ['Ford', 'Chevrolet']:\n",
    "        print('You buy American')\n",
    "else:\n",
    "    print('You are too young!')"
   ]
  },
  {
   "cell_type": "markdown",
   "metadata": {},
   "source": [
    "This code has multiple paths that it can take because it depends on two variables: `age` and `car`. If the age is greater than a certain value, then it falls into that code block and will execute the nested `if` statement, which checks the `car` type. If the `age` is less than an arbitrary amount then it will simply print out a message.\n",
    "\n",
    "Theoretically, you can nest conditionals any number of times. However, the more nesting you do, the more complicated it is to debug later. You should keep the nesting to only one or two levels deep in most cases.\n",
    "\n",
    "Fortunately, logical operators can help alleviate this issue!\n",
    "\n",
    "## Logical Operators\n",
    "\n",
    "Logical operators allow you to chain multiple expressions together using special keywords.\n",
    "\n",
    "Here are the three logical operators that Python supports:\n",
    "\n",
    "* `and` - Only `True` is both the operands are true\n",
    "* `or` - `True` is either of the operands are true\n",
    "* `not` - `True` is the operand is false\n",
    "\n",
    "Let's try using the logical operator, `and` with the example from the last section to flatten your conditional statements:"
   ]
  },
  {
   "cell_type": "code",
   "execution_count": 2,
   "metadata": {},
   "outputs": [
    {
     "name": "stdout",
     "output_type": "stream",
     "text": [
      "You buy American\n"
     ]
    }
   ],
   "source": [
    "age = 21\n",
    "car = 'Ford'\n",
    "if age >= 21 and car in ['Honda', 'Toyota']:\n",
    "    print('You buy foreign cars')\n",
    "elif age >= 21 and car in ['Ford', 'Chevrolet']:\n",
    "    print('You buy American')\n",
    "else:\n",
    "    print('You are too young!')"
   ]
  },
  {
   "cell_type": "markdown",
   "metadata": {},
   "source": [
    "When you use `and`, both expressions must evaluate to `True` for the code underneath them to execute. So the first conditional checks to see if the age is greater than or equal to 21 AND the car is in the list of Japanese cars. Since it isn't both of those things, you drop down to the `elif` and check those conditions. This time both conditions are `True`, so it prints your car preference.\n",
    "\n",
    "Let's see what happens if you change the `and` to an `or`:"
   ]
  },
  {
   "cell_type": "code",
   "execution_count": 3,
   "metadata": {},
   "outputs": [
    {
     "name": "stdout",
     "output_type": "stream",
     "text": [
      "You buy foreign cars\n"
     ]
    }
   ],
   "source": [
    "age = 21\n",
    "car = 'Ford'\n",
    "if age >= 21 or car in ['Honda', 'Toyota']:\n",
    "    print('You buy foreign cars')\n",
    "elif age >= 21 and car in ['Ford', 'Chevrolet']:\n",
    "    print('You buy American')\n",
    "else:\n",
    "    print('You are too young!')"
   ]
  },
  {
   "cell_type": "markdown",
   "metadata": {},
   "source": [
    "Wait a minute! You said your car was \"Ford\", but this code is saying you buy foreign cars! What's going on here?\n",
    "\n",
    "Well when you use a logical `or`, that means that the code in that code block will execute if either of the statements are `True`. \n",
    "\n",
    "Let's break this down a bit. There are two expressions in `if age >= 21 or car in ['Honda', 'Toyota']`. The first one is `age >= 21`. That evaluates to `True`. As soon as Python sees the `or` and that the first statement is `True`, it evaluates the whole thing as `True`. Either your age is greater than or equal to 21 **or** your car is Ford. Either way, it's true and that code gets executed.\n",
    "\n",
    "Using `not` is a bit different. It doesn't really fit with this example at all, so you'll have to write something else. \n",
    "\n",
    "Here is one way you could use `not`:"
   ]
  },
  {
   "cell_type": "code",
   "execution_count": 14,
   "metadata": {},
   "outputs": [
    {
     "data": {
      "text/plain": [
       "True"
      ]
     },
     "execution_count": 14,
     "metadata": {},
     "output_type": "execute_result"
    }
   ],
   "source": [
    "my_list = [1, 2, 3, 4]\n",
    "5 not in my_list"
   ]
  },
  {
   "cell_type": "markdown",
   "metadata": {},
   "source": [
    "In this case, you are checking to see if an integer is `not` in a `list`.\n",
    "\n",
    "Let's use another authentication example to demonstrate how you might use `not`:"
   ]
  },
  {
   "cell_type": "code",
   "execution_count": 15,
   "metadata": {},
   "outputs": [
    {
     "name": "stdout",
     "output_type": "stream",
     "text": [
      "You are not authorized!\n"
     ]
    }
   ],
   "source": [
    "ids = [1234, 5678]\n",
    "my_id = 1001\n",
    "if my_id not in ids:\n",
    "    print('You are not authorized!')"
   ]
  },
  {
   "cell_type": "markdown",
   "metadata": {},
   "source": [
    "Here you have a set of known ids. These ids could be numeric like they are here or they could be email addresses or something else. Regardless, you need to check if the given id, `my_id` is in your list of known ids. If it's not, then you can let the user know that they are not authorized to continue.\n",
    "\n",
    "You can also combine logical operators in a conditional statement. Here's an example:"
   ]
  },
  {
   "cell_type": "code",
   "execution_count": 16,
   "metadata": {},
   "outputs": [
    {
     "name": "stdout",
     "output_type": "stream",
     "text": [
      "You are 21 years old with brown hair\n"
     ]
    }
   ],
   "source": [
    "hair = 'brown'\n",
    "age = 21\n",
    "if age >= 21 and (hair == 'brown' or hair == 'blue'):\n",
    "    print(f'You are {age} years old with {hair} hair')\n",
    "else:\n",
    "    print(f'You are too young at {age} years old')"
   ]
  },
  {
   "cell_type": "markdown",
   "metadata": {},
   "source": [
    "## Special Operators\n",
    "\n",
    "There are some special operators that you can use in conditional expressions. In fact, you already used one of them in the previous section.\n",
    "\n",
    "Do you remember which one of these you just used?\n",
    "\n",
    "* `is` - `True` when the operands are identical (i.e. have the same id)\n",
    "* `is not` - `True` when the operands are not identical\n",
    "* `in` - `True` when the value is in the sequence \n",
    "* `not in` - `True` when the value is not in the sequence\n",
    "\n",
    "You used the last one, `not in` to determine if an id was not in the authorized access list. "
   ]
  },
  {
   "cell_type": "markdown",
   "metadata": {},
   "source": [
    "You can use `in` and `not in` to test if something is in a sequence. Sequences in Python refer to such things as lists, strings, tuples, etc. \n",
    "\n",
    "Here's one way you could use this knowledge:"
   ]
  },
  {
   "cell_type": "code",
   "execution_count": 19,
   "metadata": {},
   "outputs": [
    {
     "name": "stdout",
     "output_type": "stream",
     "text": [
      "x is not in yn\n"
     ]
    }
   ],
   "source": [
    "valid_chars = 'yn'\n",
    "char = 'x'\n",
    "if char in valid_chars:\n",
    "    print(f'{char} is a valid character')\n",
    "else:\n",
    "    print(f'{char} is not in {valid_chars}')"
   ]
  },
  {
   "cell_type": "markdown",
   "metadata": {},
   "source": [
    "Here you check to see if the `char` is in the string of `valid_chars`. If it isn't, it will print out what the valid letters are."
   ]
  },
  {
   "cell_type": "code",
   "execution_count": null,
   "metadata": {},
   "outputs": [],
   "source": []
  }
 ],
 "metadata": {
  "kernelspec": {
   "display_name": "Python 3",
   "language": "python",
   "name": "python3"
  },
  "language_info": {
   "codemirror_mode": {
    "name": "ipython",
    "version": 3
   },
   "file_extension": ".py",
   "mimetype": "text/x-python",
   "name": "python",
   "nbconvert_exporter": "python",
   "pygments_lexer": "ipython3",
   "version": "3.6.4"
  }
 },
 "nbformat": 4,
 "nbformat_minor": 2
}
