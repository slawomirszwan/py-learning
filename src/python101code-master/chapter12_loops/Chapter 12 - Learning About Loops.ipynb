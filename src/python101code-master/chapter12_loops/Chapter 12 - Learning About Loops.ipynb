{
 "cells": [
  {
   "cell_type": "markdown",
   "metadata": {},
   "source": [
    "# Chapter 12 - Learning About Loops\n",
    "\n",
    "There are many times when you are writing code that you will need to find a way to iterate over something. Perhaps you'll need to iterate over the letters in a string or the objects in a `list`. The process of iterating over something is done via a loop. \n",
    "\n",
    "A loop is a programming construct that allows you to iterate over chunks. Those chunks could be the letters in the string or the lines of a file. \n",
    "\n",
    "In Python, there are two types of loop constructs:\n",
    "\n",
    "* The `for` loop\n",
    "* The `while` loop"
   ]
  },
  {
   "cell_type": "markdown",
   "metadata": {},
   "source": [
    "## Creating a `for` Loop\n",
    "\n",
    "The `for` loop is the most popular looping construct in Python. A `for` loop is created using the following syntax:\n",
    "\n",
    "```python\n",
    "for x in iterable:\n",
    "\t# do something\n",
    "```\n",
    "\n",
    "Now the code above does nothing. So let's write a `for` loop that iterates over a list, one item at a time:"
   ]
  },
  {
   "cell_type": "code",
   "execution_count": 2,
   "metadata": {},
   "outputs": [
    {
     "name": "stdout",
     "output_type": "stream",
     "text": [
      "1\n",
      "2\n",
      "3\n"
     ]
    }
   ],
   "source": [
    "my_list = [1, 2, 3]\n",
    "for item in my_list:\n",
    "    print(item)"
   ]
  },
  {
   "cell_type": "markdown",
   "metadata": {},
   "source": [
    "In this code, you create a `list` with three integers in it. Next you create a `for` loop that says \"for each item in my list, print out the item\".\n",
    "\n",
    "Of course, most of the time you will actually want to do something to the item. For example, you might want to double it:"
   ]
  },
  {
   "cell_type": "code",
   "execution_count": 3,
   "metadata": {},
   "outputs": [
    {
     "name": "stdout",
     "output_type": "stream",
     "text": [
      "2\n",
      "4\n",
      "6\n"
     ]
    }
   ],
   "source": [
    "my_list = [1, 2, 3]\n",
    "for item in my_list:\n",
    "    print(f'{item * 2}')"
   ]
  },
  {
   "cell_type": "markdown",
   "metadata": {},
   "source": [
    "Or you might want to only print out only the even numbered items:"
   ]
  },
  {
   "cell_type": "code",
   "execution_count": 4,
   "metadata": {},
   "outputs": [
    {
     "name": "stdout",
     "output_type": "stream",
     "text": [
      "2 is even\n"
     ]
    }
   ],
   "source": [
    "my_list = [1, 2, 3]\n",
    "for item in my_list:\n",
    "    if item % 2 == 0:\n",
    "        print(f'{item} is even')"
   ]
  },
  {
   "cell_type": "markdown",
   "metadata": {},
   "source": [
    "Here you use the modulus operator, `%`, to find the remainder of the item divided by 2. If the remainder is 0, then you know that the item is an even number.\n",
    "\n",
    "You can use loops and conditionals and any other Python construct to create complex pieces of code that are only limited by your imagination.\n",
    "\n",
    "Let's learn what else you can loop over besides lists."
   ]
  },
  {
   "cell_type": "markdown",
   "metadata": {},
   "source": [
    "## Looping Over a String\n",
    "\n",
    "One of the differences of the `for` loop in Python versus other programming languages is that you can iterate over any sequence. So you can iterate over other data types.\n",
    "\n",
    "Let's look at iterating over a string:"
   ]
  },
  {
   "cell_type": "code",
   "execution_count": 5,
   "metadata": {},
   "outputs": [
    {
     "name": "stdout",
     "output_type": "stream",
     "text": [
      "a\n",
      "b\n",
      "c\n",
      "d\n",
      "e\n",
      "f\n",
      "g\n"
     ]
    }
   ],
   "source": [
    "my_str = 'abcdefg'\n",
    "for letter in my_str:\n",
    "    print(letter)"
   ]
  },
  {
   "cell_type": "markdown",
   "metadata": {},
   "source": [
    "## Looping Over a Dictionary\n",
    "\n",
    "Python dictionaries also allow looping. By default, when you loop over a dictionary, you will loop over its keys:\n"
   ]
  },
  {
   "cell_type": "code",
   "execution_count": 6,
   "metadata": {},
   "outputs": [
    {
     "name": "stdout",
     "output_type": "stream",
     "text": [
      "mdriscoll\n",
      "guido\n",
      "steve\n"
     ]
    }
   ],
   "source": [
    "users = {'mdriscoll': 'password', 'guido': 'python', 'steve': 'guac'}\n",
    "for user in users:\n",
    "    print(user)"
   ]
  },
  {
   "cell_type": "markdown",
   "metadata": {},
   "source": [
    "In this example, you specify that you want to extract the `user` and the `password` in each iteration. As you might recall, the `items()` method returns a view that is formatted like a list of tuples. Because of that, you can extract each `key: value` pair from this view and print them out.\n",
    "\n",
    "This leads us to looping over tuples and getting out individual items from a tuple while looping!\n",
    "\n",
    "## Extracting Multiple Values in a Tuple While Looping\n",
    "\n",
    "Sometimes you will need to loop over a list of tuples and get each item within the tuple. It sounds kind of weird, but you will find that it is a fairly common programming task.\n"
   ]
  },
  {
   "cell_type": "code",
   "execution_count": 7,
   "metadata": {},
   "outputs": [
    {
     "name": "stdout",
     "output_type": "stream",
     "text": [
      "1 - banana\n",
      "2 - apple\n",
      "3 - pear\n"
     ]
    }
   ],
   "source": [
    "list_of_tuples = [(1, 'banana'), (2, 'apple'), (3, 'pear')]\n",
    "for number, fruit in list_of_tuples:\n",
    "    print(f'{number} - {fruit}')"
   ]
  },
  {
   "cell_type": "markdown",
   "metadata": {},
   "source": [
    "To get this to work, you take advantage of the fact that you know each tuple has two items in it. Since you know the format of the list of tuples ahead of time, you know how to extract the values.\n",
    "\n",
    "If you hadn't extracted the items individually from the tuples, you would have ended up with this kind of output:"
   ]
  },
  {
   "cell_type": "code",
   "execution_count": 9,
   "metadata": {},
   "outputs": [
    {
     "name": "stdout",
     "output_type": "stream",
     "text": [
      "(1, 'banana')\n",
      "(2, 'apple')\n",
      "(3, 'pear')\n"
     ]
    }
   ],
   "source": [
    "list_of_tuples = [(1, 'banana'), (2, 'apple'), (3, 'pear')]\n",
    "for item in list_of_tuples:\n",
    "    print(item)"
   ]
  },
  {
   "cell_type": "markdown",
   "metadata": {},
   "source": [
    "## Using `enumerate` with Loops\n",
    "\n",
    "Python comes with a built-in function called `enumerate`. This function takes in an iterator or sequence, like a string or list, and returns a tuple in the form of `(position, item)`. \n",
    "\n",
    "This allows you to know the position of the item in the sequence easily while looping over the sequence.\n",
    "\n",
    "Here's an example:"
   ]
  },
  {
   "cell_type": "code",
   "execution_count": 10,
   "metadata": {},
   "outputs": [
    {
     "name": "stdout",
     "output_type": "stream",
     "text": [
      "0 - a\n",
      "1 - b\n",
      "2 - c\n",
      "3 - d\n",
      "4 - e\n",
      "5 - f\n",
      "6 - g\n"
     ]
    }
   ],
   "source": [
    "my_str = 'abcdefg'\n",
    "for pos, letter in enumerate(my_str):\n",
    "    print(f'{pos} - {letter}')"
   ]
  },
  {
   "cell_type": "markdown",
   "metadata": {},
   "source": [
    "## Creating a `while` Loop\n",
    "\n",
    "Python has one other type of looping construct that is called the `while` loop. A `while` loop is created with the keyword `while` followed by an expression. In other words, `while` loops will run until a specific condition is met.\n",
    "\n",
    "Let's take a look at how these loops work:"
   ]
  },
  {
   "cell_type": "code",
   "execution_count": 11,
   "metadata": {},
   "outputs": [
    {
     "name": "stdout",
     "output_type": "stream",
     "text": [
      "0\n",
      "1\n",
      "2\n",
      "3\n",
      "4\n",
      "5\n",
      "6\n",
      "7\n",
      "8\n",
      "9\n"
     ]
    }
   ],
   "source": [
    "count = 0\n",
    "while count < 10:\n",
    "    print(count)\n",
    "    count += 1"
   ]
  },
  {
   "cell_type": "markdown",
   "metadata": {},
   "source": [
    "This loop is formulated in much the same way as a conditional statement. You tell Python that you want the loop to run as long as the `count` is less than 10. Inside of the loop, you print out the current `count` and then you increment the `count` by one.\n",
    "\n",
    "If you forgot to increment the `count`, the loop would run until you stop or terminate the Python process. \n",
    "\n",
    "You can create an infinite loop by making that mistake or you could do something like this:"
   ]
  },
  {
   "cell_type": "code",
   "execution_count": null,
   "metadata": {},
   "outputs": [],
   "source": [
    "while True:\n",
    "    print('Program running')"
   ]
  },
  {
   "cell_type": "markdown",
   "metadata": {},
   "source": [
    "Since the expression is always `True`, this code will print out the string, \"Program running\", forever or until you kill the process."
   ]
  },
  {
   "cell_type": "markdown",
   "metadata": {},
   "source": [
    "## Breaking Out of a Loop\n",
    "\n",
    "Sometimes you want to stop a loop early. For example, you might want to loop until you find something specific. A good use case would be looping over the lines in a text file and stopping when you find the first occurrence of a particular string. \n",
    "\n",
    "To stop a loop early, you can use the keyword `break`:"
   ]
  },
  {
   "cell_type": "code",
   "execution_count": 2,
   "metadata": {},
   "outputs": [
    {
     "name": "stdout",
     "output_type": "stream",
     "text": [
      "0\n",
      "1\n",
      "2\n",
      "3\n",
      "count=4\n"
     ]
    }
   ],
   "source": [
    "count = 0\n",
    "while count < 10:\n",
    "    if count == 4:\n",
    "        print(f'count={count}')\n",
    "        break\n",
    "    print(count)\n",
    "    count += 1"
   ]
  },
  {
   "cell_type": "markdown",
   "metadata": {},
   "source": [
    "You can also use `break` in a `for` loop:"
   ]
  },
  {
   "cell_type": "code",
   "execution_count": 3,
   "metadata": {},
   "outputs": [
    {
     "name": "stdout",
     "output_type": "stream",
     "text": [
      "1 - banana\n",
      "Apple found!\n"
     ]
    }
   ],
   "source": [
    "list_of_tuples = [(1, 'banana'), (2, 'apple'), (3, 'pear')]\n",
    "for number, fruit in list_of_tuples:\n",
    "    if fruit == 'apple':\n",
    "        print('Apple found!')\n",
    "        break\n",
    "    print(f'{number} - {fruit}')"
   ]
  },
  {
   "cell_type": "markdown",
   "metadata": {},
   "source": [
    "For this example, you want to break out of the loop when you find an apple. Otherwise you print out what fruit you have found. Since the apple is in the second tuple, you will never get to the third one.\n",
    "\n",
    "When you use `break`, the loop will only break out of the innermost loop that the `break` statement is in.\n",
    "\n",
    "You can use `break` to help control the flow of the program. In fact, conditional statements along with `break` are known as `flow control` statements.\n",
    "\n",
    "## Using `continue`\n",
    "\n",
    "The `continue` statement is used for continuing to the next iteration in the loop. You can use `continue` to skip over something.\n",
    "\n",
    "Let's write a loop that skips over even numbers:"
   ]
  },
  {
   "cell_type": "code",
   "execution_count": 4,
   "metadata": {},
   "outputs": [
    {
     "name": "stdout",
     "output_type": "stream",
     "text": [
      "3\n",
      "5\n",
      "7\n",
      "9\n",
      "11\n"
     ]
    }
   ],
   "source": [
    "for number in range(2, 12):\n",
    "    if number % 2 == 0:\n",
    "        continue\n",
    "    print(number)"
   ]
  },
  {
   "cell_type": "markdown",
   "metadata": {},
   "source": [
    "In this code, you loop over a range of numbers starting at 2 and ending at 11. For each number in this range, you use the modulus operator, `%`, to get the remainder of the number divided by 2. If the remainder is zero, it's an even number and you use the `continue` statement to continue to the next value in the sequence. This effectively skips even numbers so that you only print out the odd ones.\n",
    "\n",
    "You can use clever conditional statements to skip over any number of things in a sequence by using the `continue` statement.\n",
    "\n",
    "## Loops and the `else` Statement\n",
    "\n",
    "A little known fact about Python loops is that you can add an `else` statement to them like you do with an `if/else` statement. The `else` statement only gets executed when no `break` statement occurs.\n",
    "\n",
    "Another way to look at it is that the `else` statement only executes if the loop completes successfully.\n",
    "\n",
    "The primary use case for the `else` statement in a loop is for searching for an item in a sequence. You would use the `else` statement to raise an exception if the item was not found.\n",
    "\n",
    "Let's look at a quick example:"
   ]
  },
  {
   "cell_type": "code",
   "execution_count": 5,
   "metadata": {},
   "outputs": [
    {
     "name": "stdout",
     "output_type": "stream",
     "text": [
      "1\n",
      "2\n",
      "3\n",
      "Number 4 not found\n"
     ]
    }
   ],
   "source": [
    "my_list = [1, 2, 3]\n",
    "for number in my_list:\n",
    "    if number == 4:\n",
    "        print('Found number 4!')\n",
    "        break\n",
    "    print(number)\n",
    "else:\n",
    "    print('Number 4 not found')"
   ]
  },
  {
   "cell_type": "markdown",
   "metadata": {},
   "source": [
    "This example loops over a `list` of three integers. It looks for the number 4 and will break out of the loop if it is found. If that number is not found, then the `else` statement will execute and let you know.\n",
    "\n",
    "Try adding the number 4 to the `list` and then re-run the code:"
   ]
  },
  {
   "cell_type": "code",
   "execution_count": 6,
   "metadata": {},
   "outputs": [
    {
     "name": "stdout",
     "output_type": "stream",
     "text": [
      "1\n",
      "2\n",
      "3\n",
      "Found number 4!\n"
     ]
    }
   ],
   "source": [
    "my_list = [1, 2, 3, 4]\n",
    "for number in my_list:\n",
    "    if number == 4:\n",
    "        print('Found number 4!')\n",
    "        break\n",
    "    print(number)\n",
    "else:\n",
    "    print('Number 4 not found')"
   ]
  },
  {
   "cell_type": "markdown",
   "metadata": {},
   "source": [
    "## Nesting Loops\n",
    "\n",
    "Loops can also be nested inside of each other. There are many reasons to nest loops. One of the most common reasons is to unravel a nested data structure. \n",
    "\n",
    "Let's use a nested `list` for your example:"
   ]
  },
  {
   "cell_type": "code",
   "execution_count": 7,
   "metadata": {},
   "outputs": [
    {
     "name": "stdout",
     "output_type": "stream",
     "text": [
      "List = ['mike', 12]\n",
      "Item -> mike\n",
      "Item -> 12\n",
      "List = ['jan', 15]\n",
      "Item -> jan\n",
      "Item -> 15\n",
      "List = ['alice', 8]\n",
      "Item -> alice\n",
      "Item -> 8\n"
     ]
    }
   ],
   "source": [
    "nested = [['mike', 12], ['jan', 15], ['alice', 8]]\n",
    "for lst in nested:\n",
    "    print(f'List = {lst}')\n",
    "    for item in lst:\n",
    "        print(f'Item -> {item}')"
   ]
  },
  {
   "cell_type": "markdown",
   "metadata": {},
   "source": [
    "The outer loop will extract each nested `list` and print it out as well. Then in the inner loop, your code will extract each item within the nested list and print it out.\n",
    "\n",
    "This type of code is especially useful when the nested lists are of varying lengths. You may need to do extra processing on the lists that have extra data or not enough data in them, for example."
   ]
  },
  {
   "cell_type": "code",
   "execution_count": null,
   "metadata": {},
   "outputs": [],
   "source": []
  }
 ],
 "metadata": {
  "kernelspec": {
   "display_name": "Python 3",
   "language": "python",
   "name": "python3"
  },
  "language_info": {
   "codemirror_mode": {
    "name": "ipython",
    "version": 3
   },
   "file_extension": ".py",
   "mimetype": "text/x-python",
   "name": "python",
   "nbconvert_exporter": "python",
   "pygments_lexer": "ipython3",
   "version": "3.6.4"
  }
 },
 "nbformat": 4,
 "nbformat_minor": 2
}
